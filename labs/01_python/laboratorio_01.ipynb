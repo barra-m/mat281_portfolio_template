{
 "cells": [
  {
   "cell_type": "markdown",
   "metadata": {},
   "source": [
    "<img src=\"images/usm.jpg\" width=\"480\" height=\"240\" align=\"left\"/>"
   ]
  },
  {
   "cell_type": "markdown",
   "metadata": {},
   "source": [
    "# MAT281 - Laboratorio N°01\n",
    "\n",
    "## Objetivos de la clase\n",
    "\n",
    "* Reforzar los conceptos básicos de python."
   ]
  },
  {
   "cell_type": "markdown",
   "metadata": {},
   "source": [
    "## Contenidos\n",
    "\n",
    "* [Problema 01](#p1)\n",
    "* [Problema 02](#p2)\n",
    "* [Problema 03](#p3)\n",
    "* [Problema 04](#p4)\n"
   ]
  },
  {
   "cell_type": "markdown",
   "metadata": {},
   "source": [
    "<a id='p1'></a>\n",
    "\n",
    "## Problema 01\n",
    "\n",
    "### a) Calcular el número $\\pi$\n",
    "\n",
    "En los siglos XVII y XVIII, James Gregory y Gottfried Leibniz descubrieron una serie infinita que sirve para calcular $\\pi$:\n",
    "\n",
    "$$\\pi = 4 \\sum_{k=1}^{\\infty}\\dfrac{(-1)^{k+1}}{2k-1} = 4(1-\\dfrac{1}{3}+\\dfrac{1}{5}-\\dfrac{1}{7} + ...) $$\n",
    "\n",
    "Desarolle un programa para estimar el valor de $\\pi$ ocupando el método de Leibniz, donde la entrada del programa debe ser un número entero $n$ que indique cuántos términos de la suma se utilizará.\n",
    "\n",
    "\n",
    "* **Ejemplo**: *calcular_pi(3)* = 3.466666666666667, *calcular_pi(1000)* = 3.140592653839794\n"
   ]
  },
  {
   "cell_type": "code",
   "execution_count": null,
   "metadata": {},
   "outputs": [],
   "source": [
    "def calcular_pi(n:int)->float:\n",
    "    \n",
    "    \"\"\"\n",
    "    calcular_pi(n)\n",
    "\n",
    "    Aproximacion del valor de pi mediante el método de Leibniz\n",
    "\n",
    "    Parameters\n",
    "    ----------\n",
    "    n : int\n",
    "        Numero de terminos.\n",
    "\n",
    "    Returns\n",
    "    -------\n",
    "    output : float\n",
    "        Valor aproximado de pi.\n",
    "        \n",
    "    Examples\n",
    "    --------\n",
    "    >>> calcular_pi(3)\n",
    "    3.466666666666667\n",
    "    \n",
    "    >>> calcular_pi(1000) \n",
    "    3.140592653839794\n",
    "    \"\"\"\n",
    "    \n",
    "    pi = 0 # valor incial \n",
    "    for k in range(1,n+1):\n",
    "        numerador = (-1)**(k+1) # numerador de la iteracion i\n",
    "        denominador = 2*k-1  # denominador de la iteracion i\n",
    "        pi+=numerador/denominador # suma hasta el i-esimo termino\n",
    "    \n",
    "    return 4*pi"
   ]
  },
  {
   "cell_type": "code",
   "execution_count": null,
   "metadata": {},
   "outputs": [],
   "source": [
    "# Acceso a la documentación\n",
    "help(calcular_pi)"
   ]
  },
  {
   "cell_type": "code",
   "execution_count": null,
   "metadata": {},
   "outputs": [],
   "source": [
    "# ejemplo 01\n",
    "calcular_pi(3)"
   ]
  },
  {
   "cell_type": "code",
   "execution_count": null,
   "metadata": {},
   "outputs": [],
   "source": [
    "# ejemplo 02\n",
    "calcular_pi(1000) "
   ]
  },
  {
   "cell_type": "markdown",
   "metadata": {},
   "source": [
    "**Observación**:\n",
    "\n",
    "* Note que si corre la línea de comando `calcular_pi(3.0)` le mandará un error ... ¿ por qué ?\n",
    "* En los laboratorio, no se pide ser tan meticuloso con la documentacion.\n",
    "* Lo primero es definir el código, correr los ejemplos  y  luego documentar correctamente."
   ]
  },
  {
   "cell_type": "markdown",
   "metadata": {},
   "source": [
    "### b) Calcular el número $e$\n",
    "\n",
    "Euler realizó varios aportes en relación a $e$, pero no fue hasta 1748 cuando publicó su **Introductio in analysin infinitorum** que dio un tratamiento definitivo a las ideas sobre $e$. Allí mostró que:\n",
    "\n",
    "\n",
    "En los siglos XVII y XVIII, James Gregory y Gottfried Leibniz descubrieron una serie infinita que sirve para calcular $e$:\n",
    "\n",
    "$$e = \\sum_{k=0}^{\\infty}\\dfrac{1}{k!} = 1+\\dfrac{1}{1!}+\\dfrac{1}{2!}+\\dfrac{1}{3!}+\\dfrac{1}{4!} + ... $$\n",
    "\n",
    "Desarolle un programa para estimar el valor de $e$ ocupando el método de Euler, donde la entrada del programa debe ser un número entero $n$ que indique cuántos términos de la suma se utilizará.\n",
    "\n",
    "\n",
    "* **Ejemplo**: *calcular_e(3)* =2.5, *calcular_e(1000)* = 2.7182818284590455"
   ]
  },
  {
   "cell_type": "code",
   "execution_count": null,
   "metadata": {},
   "outputs": [],
   "source": [
    "def calcular_e(n:int)->float:\n",
    "    \"\"\"\n",
    "    calcular_e(n)\n",
    "\n",
    "    Aproximacion del valor de e mediante el método de Euler\n",
    "\n",
    "    Parameters\n",
    "    ----------\n",
    "    n : int\n",
    "        Numero de terminos.\n",
    "\n",
    "    Returns\n",
    "    -------\n",
    "    output : float\n",
    "        Valor aproximado de e.\n",
    "        \n",
    "    Examples\n",
    "    --------\n",
    "    >>> calcular_e(3)\n",
    "    2.5\n",
    "    \n",
    "    >>> calcular_e(1000) \n",
    "    2.7182818284590455\n",
    "    \"\"\"\n",
    "    if n==0:\n",
    "        return 0\n",
    "    else:\n",
    "        e = 1 # valor incial\n",
    "        factorial = 1\n",
    "        for k in range(1,n):\n",
    "            factorial *= k #computar el k-esimo factorial\n",
    "            e += 1/factorial # suma hasta el k-esimo termino\n",
    "    return e"
   ]
  },
  {
   "cell_type": "code",
   "execution_count": null,
   "metadata": {},
   "outputs": [],
   "source": [
    "# ejemplo 1\n",
    "calcular_e(3)"
   ]
  },
  {
   "cell_type": "code",
   "execution_count": null,
   "metadata": {},
   "outputs": [],
   "source": [
    "# ejemplo 2\n",
    "calcular_e(1000)"
   ]
  },
  {
   "cell_type": "markdown",
   "metadata": {},
   "source": [
    "<a id='p2'></a>\n",
    "\n",
    "## Problema 02\n",
    "\n",
    "\n",
    "Sea $\\sigma(n)$ definido como la suma de los divisores propios de $n$ (números menores que n que se dividen en $n$).\n",
    "\n",
    "Los [números amigos](https://en.wikipedia.org/wiki/Amicable_numbers) son  enteros positivos $n_1$ y $n_2$ tales que la suma de los divisores _propios_ de uno es igual al otro número y viceversa, es decir, $\\sigma(n_1)=n_2$ y $\\sigma(n_2)=n_1$.\n",
    "\n",
    "\n",
    "Por ejemplo, los números 220 y 284 son números amigos.\n",
    "* los divisores propios de 220 son 1, 2, 4, 5, 10, 11, 20, 22, 44, 55 y 110; por lo tanto $\\sigma(220) = 284$. \n",
    "* los divisores propios de 284 son 1, 2, 4, 71 y 142; entonces $\\sigma(284) = 220$.\n",
    "\n",
    "\n",
    "Implemente una función llamada `amigos` cuyo input sean dos números naturales $n_1$ y $n_2$, cuyo output sea verifique si los números son amigos o no.\n",
    "\n",
    "* **Ejemplo**: *amigos(220,284)* = True, *amigos(6,5)* = False\n"
   ]
  },
  {
   "cell_type": "code",
   "execution_count": null,
   "metadata": {},
   "outputs": [],
   "source": [
    "def amigos(n1:int,n2:int)->bool:\n",
    "    \"\"\"\n",
    "    amigos(n1,n2)\n",
    "\n",
    "    Determina si n1 y n2 son numeros amigos, es decir si la suma de los\n",
    "    divisores de n1 es igual a n2 y viceversa.\n",
    "\n",
    "    Parameters\n",
    "    ----------\n",
    "    n1,n2 : int\n",
    "        Numeros enteros positivos.\n",
    "\n",
    "    Returns\n",
    "    -------\n",
    "    output : bool\n",
    "        Valor lógico de la proposición \"n1 y n2 son números amigos\".\n",
    "        \n",
    "    Examples\n",
    "    --------\n",
    "    >>> amigos(220,284)\n",
    "    True\n",
    "    \n",
    "    >>> amigos(6,5) \n",
    "    False\n",
    "    \"\"\"\n",
    "    suma_n1 = 0 #sumas iniciales\n",
    "    suma_n2 = 0\n",
    "    for k in range(1,n1):#se itera para todos los k menor a n1\n",
    "        if n1%k == 0: #al encontrar un divisor se suma a la suma actual\n",
    "            suma_n1+=k\n",
    "    #se hace lo mismo para n2\n",
    "    for l in range (1,n2):\n",
    "        if n2%l== 0:\n",
    "            suma_n2+=l\n",
    "               \n",
    "    #print(suma_n1, suma_n2) #opcional para visualizar la suma obtenida\n",
    "    return (suma_n1==n2 and suma_n2==n1)"
   ]
  },
  {
   "cell_type": "code",
   "execution_count": null,
   "metadata": {},
   "outputs": [],
   "source": [
    "amigos(220,284)"
   ]
  },
  {
   "cell_type": "code",
   "execution_count": null,
   "metadata": {},
   "outputs": [],
   "source": [
    "amigos(6,5)"
   ]
  },
  {
   "cell_type": "code",
   "execution_count": null,
   "metadata": {},
   "outputs": [],
   "source": [
    "help (amigos)"
   ]
  },
  {
   "cell_type": "markdown",
   "metadata": {},
   "source": [
    "<a id='p3'></a>\n",
    "\n",
    "## Problema 03\n",
    "\n",
    "La [conjetura de Collatz](https://en.wikipedia.org/wiki/Collatz_conjecture), conocida también como conjetura $3n+1$ o conjetura de Ulam (entre otros nombres), fue enunciada por el matemático Lothar Collatz en 1937, y a la fecha no se ha resuelto.\n",
    "\n",
    "Sea la siguiente operación, aplicable a cualquier número entero positivo:\n",
    "* Si el número es par, se divide entre 2.\n",
    "* Si el número es impar, se multiplica por 3 y se suma 1.\n",
    "\n",
    "La conjetura dice que siempre alcanzaremos el 1 (y por tanto el ciclo 4, 2, 1) para cualquier número con el que comencemos. \n",
    "\n",
    "Implemente una función llamada `collatz` cuyo input sea un número natural positivo $N$ y como output devulva la secuencia de números hasta llegar a 1.\n",
    "\n",
    "* **Ejemplo**: *collatz(9)* = [9, 28, 14, 7, 22, 11, 34, 17, 52, 26, 13, 40, 20, 10, 5, 16, 8, 4, 2, 1]"
   ]
  },
  {
   "cell_type": "code",
   "execution_count": null,
   "metadata": {},
   "outputs": [],
   "source": [
    "def collatz(n:int)->list:\n",
    "    \"\"\"\n",
    "    collatz(n)\n",
    "\n",
    "    Encuentra la secuencia de Collatz de n.\n",
    "\n",
    "    Parameters\n",
    "    ----------\n",
    "    n : int\n",
    "        Numero entero positivo.\n",
    "\n",
    "    Returns\n",
    "    -------\n",
    "    output : list[int]\n",
    "        Lista con los valores de la secuencia de números obtenidos al\n",
    "        realizar las operaciones de Collatz hasta llegar a 1.\n",
    "        \n",
    "    Examples\n",
    "    --------\n",
    "    >>> collatz(9)\n",
    "    [9, 28, 14, 7, 22, 11, 34, 17, 52, 26, 13, 40, 20, 10, 5, 16, 8, 4, 2, 1]\n",
    "    \n",
    "    >>> collatz(8) \n",
    "    [8, 4, 2, 1]\n",
    "    \"\"\"\n",
    "    Lista = [n] #lista inicial contienendo solo a la entrada\n",
    "    while n != 1: #condicion base\n",
    "        if n%2==0: #se detecta numero par\n",
    "            n//=2 #se usa cociente para que n no pase de int a float\n",
    "        else: #se detecta numero impar\n",
    "            n=3*n+1\n",
    "        Lista.append(n) #añadir el resultado a la lista\n",
    "    return Lista    "
   ]
  },
  {
   "cell_type": "code",
   "execution_count": null,
   "metadata": {},
   "outputs": [],
   "source": [
    "collatz(9)"
   ]
  },
  {
   "cell_type": "code",
   "execution_count": null,
   "metadata": {},
   "outputs": [],
   "source": [
    "collatz(8)"
   ]
  },
  {
   "cell_type": "markdown",
   "metadata": {},
   "source": [
    "<a id='p4'></a>\n",
    "\n",
    "## Problema 04\n",
    "\n",
    "La [conjetura de Goldbach](https://en.wikipedia.org/wiki/Goldbach%27s_conjecture) es uno de los problemas abiertos más antiguos en matemáticas. Concretamente, G.H. Hardy, en 1921, en su famoso discurso pronunciado en la Sociedad Matemática de Copenhague, comentó que probablemente la conjetura de Goldbach no es solo uno de los problemas no resueltos más difíciles de la teoría de números, sino de todas las matemáticas. Su enunciado es el siguiente:\n",
    "\n",
    "$$\\textrm{Todo número par mayor que 2 puede escribirse como suma de dos números primos - Christian Goldbach (1742)}$$\n",
    "\n",
    "Implemente una función llamada `goldbach` cuyo input sea un número natural positivo $N$ y como output devuelva la suma de dos primos ($N1$ y $N2$) tal que: $N1+N2=N$. \n",
    "\n",
    " * **Ejemplo**: goldbash(4) = (2,2), goldbash(6) = (3,3) , goldbash(8) = (3,5)"
   ]
  },
  {
   "cell_type": "markdown",
   "metadata": {},
   "source": [
    "Se utilizará la función auxiliar `esprimo` que determina si un entero positivo es primo usando fuerza bruta. "
   ]
  },
  {
   "cell_type": "code",
   "execution_count": null,
   "metadata": {},
   "outputs": [],
   "source": [
    "def esprimo(n:int)->bool:\n",
    "    \"\"\"\n",
    "    esprimo(n)\n",
    "\n",
    "    Determina si un numero entero positivo es primo.\n",
    "\n",
    "    Parameters\n",
    "    ----------\n",
    "    n : int\n",
    "        Numero entero positivo.\n",
    "\n",
    "    Returns\n",
    "    -------\n",
    "    output : bool\n",
    "        Valor lógico de la proposición \"n es primo\".\n",
    "        \n",
    "    Examples\n",
    "    --------\n",
    "    >>> esprimo(123)\n",
    "    False\n",
    "    \n",
    "    >>> esprimo(83) \n",
    "    True\n",
    "    \"\"\"\n",
    "    primo=True #se asume inicialmente n primo\n",
    "    for i in range(2,n):#se busca un divisor de n\n",
    "        if n%i==0: #al econtrarlo se da el valor false al bool\n",
    "            primo=False\n",
    "    return primo "
   ]
  },
  {
   "cell_type": "code",
   "execution_count": null,
   "metadata": {},
   "outputs": [],
   "source": [
    "def goldbash(n:int)->tuple:\n",
    "    \"\"\"\n",
    "    goldbash(n)\n",
    "\n",
    "    Determina el par de numeros primos tal que su suma es igual a n\n",
    "\n",
    "    Parameters\n",
    "    ----------\n",
    "    n : int\n",
    "        Numero entero positivo par mayor a 2.\n",
    "\n",
    "    Returns\n",
    "    -------\n",
    "    output : tuple\n",
    "        Tupla de numeros primos tales que su suma equivale a n\n",
    "        \n",
    "    Examples\n",
    "    --------\n",
    "    >>> goldbash(4)\n",
    "    (2,2)\n",
    "    \n",
    "    >>> goldbash(8) \n",
    "    (3,5)\n",
    "    \"\"\"\n",
    "    if esprimo(n//2): #caso base: n/2 es primo\n",
    "        particion=(n//2,n//2)\n",
    "    else: #de lo contrario se asume que se cumple la conjetura de Goldbach\n",
    "        primer = n//2-1 #se busca la tupla desde los impares mas cerca de n/2\n",
    "        while not (esprimo(primer) and esprimo(n-primer)): #DeMorgan\n",
    "            primer-=2 #se itera hacia el siguiente par de impares  \n",
    "        particion =(primer,n-primer) \n",
    "    return particion    "
   ]
  },
  {
   "cell_type": "code",
   "execution_count": null,
   "metadata": {},
   "outputs": [],
   "source": [
    "goldbash(4)"
   ]
  },
  {
   "cell_type": "code",
   "execution_count": null,
   "metadata": {},
   "outputs": [],
   "source": [
    "goldbash(8)"
   ]
  }
 ],
 "metadata": {
  "kernelspec": {
   "display_name": "Python 3",
   "language": "python",
   "name": "python3"
  },
  "language_info": {
   "codemirror_mode": {
    "name": "ipython",
    "version": 3
   },
   "file_extension": ".py",
   "mimetype": "text/x-python",
   "name": "python",
   "nbconvert_exporter": "python",
   "pygments_lexer": "ipython3",
   "version": "3.7.6"
  }
 },
 "nbformat": 4,
 "nbformat_minor": 4
}
