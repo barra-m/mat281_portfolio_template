{
 "cells": [
  {
   "cell_type": "markdown",
   "metadata": {},
   "source": [
    "<img src=\"images/usm.jpg\" width=\"480\" height=\"240\" align=\"left\"/>"
   ]
  },
  {
   "cell_type": "markdown",
   "metadata": {},
   "source": [
    "# MAT281 - Laboratorio N°02\n",
    "\n",
    "## Objetivos de la clase\n",
    "\n",
    "* Reforzar los conceptos básicos de numpy."
   ]
  },
  {
   "cell_type": "markdown",
   "metadata": {},
   "source": [
    "## Contenidos\n",
    "\n",
    "* [Problema 01](#p1)\n",
    "* [Problema 02](#p2)\n",
    "* [Problema 03](#p3)"
   ]
  },
  {
   "cell_type": "markdown",
   "metadata": {},
   "source": [
    "<a id='p1'></a>\n",
    "\n",
    "## Problema 01\n",
    "\n",
    "Una **media móvil simple** (SMA) es el promedio de los últimos $k$ datos anteriores, es decir, sea $a_1$,$a_2$,...,$a_n$ un arreglo $n$-dimensional, entonces la SMA se define por:\n",
    "\n",
    "$$\\displaystyle sma(k) =\\dfrac{1}{k}(a_{n}+a_{n-1}+...+a_{n-(k-1)}) = \\dfrac{1}{k}\\sum_{i=0}^{k-1}a_{n-i}  $$ \n",
    "\n",
    "\n",
    "Por otro lado podemos definir el SMA con una venta móvil de $n$ si el resultado nos retorna la el promedio ponderado avanzando de la siguiente forma:\n",
    "\n",
    "* $a = [1,2,3,4,5]$, la SMA con una ventana de $n=2$ sería:\n",
    " * sma(2) = [mean(1,2),mean(2,3),mean(3,4),mean(4,5)] = [1.5, 2.5, 3.5, 4.5]\n",
    " * sma(3) = [mean(1,2,3),mean(2,3,4),mean(3,4,5)] = [2.,3.,4.]\n",
    "\n",
    "\n",
    "Implemente una función llamada `sma` cuyo input sea un arreglo unidimensional $a$ y un entero $n$, y cuyo ouput retorne el valor de la media móvil simple sobre el arreglo de la siguiente forma:\n",
    "\n",
    "* **Ejemplo**: *sma([5,3,8,10,2,1,5,1,0,2], 2)* = $[4. , 5.5, 9. , 6. , 1.5, 3. , 3. , 0.5, 1. ]$\n",
    "\n",
    "En este caso, se esta calculando el SMA para un arreglo con una ventana de $n=2$.\n",
    "\n",
    "**Hint**: utilice la función `numpy.cumsum`"
   ]
  },
  {
   "cell_type": "code",
   "execution_count": 1,
   "metadata": {},
   "outputs": [],
   "source": [
    "# importar librerias\n",
    "import numpy as np "
   ]
  },
  {
   "cell_type": "markdown",
   "metadata": {},
   "source": [
    "### Definir Función"
   ]
  },
  {
   "cell_type": "code",
   "execution_count": 2,
   "metadata": {},
   "outputs": [],
   "source": [
    "def sma(a:list,window_len:int)->np.array:\n",
    "    \"\"\"\n",
    "    sma(a,windown_len)\n",
    "\n",
    "    Obtener las SMA de ventana móvil n de una lista a de floats. Una SMA de ventana n corresponde a la media de\n",
    "    n datos consecutivos. La funcion calcula el numero maximo de SMA posibles (tamaño del arreglo mas uno, menos \n",
    "    window_len) y las guarda en una lista.\n",
    "\n",
    "    Parameters\n",
    "    ----------\n",
    "    a : list\n",
    "        Lista de floats.\n",
    "    window_len : int\n",
    "        Largo de la ventana de la SMA a computar.\n",
    "\n",
    "    Returns\n",
    "    -------\n",
    "    output : np.array\n",
    "        Arreglo que contiene el valor de las SMA.\n",
    "        \n",
    "    Examples\n",
    "    --------\n",
    "    >>> sma([1,2,3,4,5],2)\n",
    "    np.array([1.5, 2.5, 3.5, 4.5])\n",
    "        \n",
    "    >>> sma([5,3,8,10,2,1,5,1,0,2],2)\n",
    "    np.array([4. , 5.5, 9. , 6. , 1.5, 3. , 3. , 0.5, 1. ])\n",
    "    \"\"\"\n",
    "    output = np.zeros(len(a)+1-window_len) #inicializar arreglo de salida\n",
    "    for i in range(0,len(output)):#en cada iteracion se calcula la SMA de largo n partiendo desde el i-esimo elemento de a\n",
    "        suma = np.cumsum(a[i:i+window_len])[window_len-1]\n",
    "        output[i] = suma/window_len\n",
    "    return output"
   ]
  },
  {
   "cell_type": "markdown",
   "metadata": {},
   "source": [
    "### Verificar ejemplos"
   ]
  },
  {
   "cell_type": "code",
   "execution_count": 3,
   "metadata": {},
   "outputs": [],
   "source": [
    "# ejemplo 01\n",
    "a = [1,2,3,4,5]\n",
    "\n",
    "np.testing.assert_array_equal(\n",
    "    sma(a, window_len=2),\n",
    "    np.array([1.5, 2.5, 3.5, 4.5])\n",
    ")"
   ]
  },
  {
   "cell_type": "code",
   "execution_count": 4,
   "metadata": {},
   "outputs": [],
   "source": [
    "# ejemplo 02\n",
    "a = [5,3,8,10,2,1,5,1,0,2]\n",
    "\n",
    "np.testing.assert_array_equal(\n",
    "    sma(a, window_len=2),\n",
    "    np.array([4. , 5.5, 9. , 6. , 1.5, 3. , 3. , 0.5, 1. ])\n",
    ")"
   ]
  },
  {
   "cell_type": "markdown",
   "metadata": {},
   "source": [
    "<a id='p2'></a>\n",
    "\n",
    "## Problema 02\n",
    "\n",
    "La función **strides($a,n,p$)**, corresponde a transformar un arreglo unidimensional $a$ en una matriz de $n$ columnas, en el cual las filas se van construyendo desfasando la posición del arreglo en $p$ pasos hacia adelante.\n",
    "\n",
    "* Para el arreglo unidimensional $a$ = [ 1,  2,  3,  4,  5,  6,  7,  8,  9, 10], la función strides($a,4,2$), corresponde a crear una matriz de $4$ columnas, cuyos desfaces hacia adelante se hacen de dos en dos. \n",
    "\n",
    "El resultado tendría que ser algo así:$$\\begin{pmatrix}\n",
    " 1& 2 &3 &4 \\\\ \n",
    " 3&  4&5&6 \\\\ \n",
    " 5& 6 &7 &8 \\\\ \n",
    " 7& 8 &9 &10 \\\\ \n",
    "\\end{pmatrix}$$\n",
    "\n",
    "\n",
    "Implemente una función llamada `strides(a,4,2)` cuyo input sea un arreglo unidimensional y retorne la matriz de $4$ columnas, cuyos desfaces hacia adelante se hacen de dos en dos. \n",
    "\n",
    "* **Ejemplo**: *strides($a$,4,2)* =$\\begin{pmatrix}\n",
    " 1& 2 &3 &4 \\\\ \n",
    " 3&  4&5&6 \\\\ \n",
    " 5& 6 &7 &8 \\\\ \n",
    " 7& 8 &9 &10 \\\\ \n",
    "\\end{pmatrix}$\n"
   ]
  },
  {
   "cell_type": "markdown",
   "metadata": {},
   "source": [
    "### Definir Función"
   ]
  },
  {
   "cell_type": "code",
   "execution_count": 5,
   "metadata": {},
   "outputs": [],
   "source": [
    "def strides(a:np.array,n:int,p:int)->np.array:\n",
    "    \"\"\"\n",
    "    strides(a,n,p)\n",
    "\n",
    "    Transforma un arreglo a en una matriz de n columnas, con filas subsequentes formadas a partir de desfasar \n",
    "    índices de la fila inmediatamente anterior en p pasos sobre el arreglo, hasta llegar a una fila que posea\n",
    "    el último elemento de a. En caso de que el ultimo elemento del arreglo no quede en la ultima posicion de la \n",
    "    matriz(esquina inferior derecha), se rellena con ceros las entradas restantes de la ultima fila.\n",
    "\n",
    "    Parameters\n",
    "    ----------\n",
    "    a : np.array\n",
    "        Lista de objetos.\n",
    "    n : int\n",
    "        Cantidad de columnas deseadas.\n",
    "    p : int\n",
    "        Pasos de desfase en el índice al agregar otra fila. \n",
    "    \n",
    "    Returns\n",
    "    -------\n",
    "    output : np.array\n",
    "        Matriz de n columnas con desfase de indice p en cada iteración a partir de a.\n",
    "        \n",
    "    Examples\n",
    "    --------\n",
    "    >>> strides(np.array([ 1,  2,  3,  4,  5,  6,  7,  8,  9, 10]),4,2)\n",
    "    np.array([\n",
    "       [ 1,  2,  3,  4],\n",
    "       [ 3,  4,  5,  6],\n",
    "       [ 5,  6,  7,  8],\n",
    "       [ 7,  8,  9, 10]])\n",
    "    \"\"\"    \n",
    "    if p==0:\n",
    "        return a\n",
    "    else:\n",
    "        M = a[0:n] #se instancia la primera fila\n",
    "    #nFilas = len(a)//p #el numero de filas corresponde a la division entera entre el largo de a con el largo\n",
    "                        #del paso\n",
    "        i=p\n",
    "        while(i <= len(a)):\n",
    "            if i+n>=len(a): #si se está saliendo del arreglo original en la iteración, se corta hasta el\n",
    "                        #ultimo elemento rellenando la ultima fila con ceros en la matriz de salida\n",
    "                aux = np.zeros(n-(len(a)-i)) \n",
    "                ultima_fila = np.hstack([a[i:len(a)],aux])\n",
    "                M = np.vstack([M,ultima_fila])\n",
    "                break\n",
    "            else:\n",
    "                M = np.vstack([M,a[i:i+n]]) #agregar fila con desfase p\n",
    "            i+=p   #en cada iteracion se mueve el indice en p unidades en el arreglo original\n",
    "    return M"
   ]
  },
  {
   "cell_type": "markdown",
   "metadata": {},
   "source": [
    "### Verificar ejemplos"
   ]
  },
  {
   "cell_type": "code",
   "execution_count": 6,
   "metadata": {},
   "outputs": [],
   "source": [
    "# ejemplo 01\n",
    "a = np.array([ 1,  2,  3,  4,  5,  6,  7,  8,  9, 10])\n",
    "n=4\n",
    "p=2\n",
    "\n",
    "np.testing.assert_array_equal(\n",
    "    strides(a,n,p),\n",
    "    np.array([\n",
    "       [ 1,  2,  3,  4],\n",
    "       [ 3,  4,  5,  6],\n",
    "       [ 5,  6,  7,  8],\n",
    "       [ 7,  8,  9, 10]])\n",
    ")"
   ]
  },
  {
   "cell_type": "markdown",
   "metadata": {},
   "source": [
    "<a id='p3'></a>\n",
    "\n",
    "## Problema 03\n",
    "\n",
    "\n",
    "Un **cuadrado mágico** es una matriz de tamaño $n \\times n$ de números enteros positivos tal que \n",
    "la suma de los números por columnas, filas y diagonales principales sea la misma. Usualmente, los números empleados para rellenar las casillas son consecutivos, de 1 a $n^2$, siendo $n$ el número de columnas y filas del cuadrado mágico.\n",
    "\n",
    "Si los números son consecutivos de 1 a $n^2$, la suma de los números por columnas, filas y diagonales principales \n",
    "es igual a : $$\\displaystyle M_{n} = \\dfrac{n(n^2+1)}{2}$$\n",
    "Por ejemplo, \n",
    "\n",
    "* $A= \\begin{pmatrix}\n",
    " 4& 9 &2 \\\\ \n",
    " 3&  5&7 \\\\ \n",
    " 8& 1 &6 \n",
    "\\end{pmatrix}$,\n",
    "es un cuadrado mágico.\n",
    "\n",
    "* $B= \\begin{pmatrix}\n",
    " 4& 2 &9 \\\\ \n",
    " 3&  5&7 \\\\ \n",
    " 8& 1 &6 \n",
    "\\end{pmatrix}$, no es un cuadrado mágico.\n",
    "\n",
    "Implemente una función llamada `es_cuadrado_magico` cuyo input sea una matriz cuadrada de tamaño $n$ con números consecutivos de $1$ a $n^2$ y cuyo ouput retorne *True* si es un cuadrado mágico o 'False', en caso contrario\n",
    "\n",
    "* **Ejemplo**: *es_cuadrado_magico($A$)* = True, *es_cuadrado_magico($B$)* = False\n",
    "\n",
    "**Hint**: Cree una función que valide la mariz es cuadrada y  que sus números son consecutivos del 1 a $n^2$."
   ]
  },
  {
   "cell_type": "markdown",
   "metadata": {},
   "source": [
    "### Definir Función"
   ]
  },
  {
   "cell_type": "code",
   "execution_count": 7,
   "metadata": {},
   "outputs": [],
   "source": [
    "def es_cuadrado_magico(A:np.array)->bool:\n",
    "    \"\"\"\n",
    "    es_cuadrado_magico(A)\n",
    "\n",
    "    Verifica que la matriz de entrada A es un cuadrado mágico, esto es, que la suma de cada diagonal, cada columna y cada \n",
    "    fila sean iguales. Se requiere (y se verifica) que la matriz de entrada sea cuadrada y que sus entradas sean números \n",
    "    consecutivos de 1 a n^2 donde n es la cantidad de filas(o columnas).\n",
    "\n",
    "    Parameters\n",
    "    ----------\n",
    "    A : np.array\n",
    "        Matriz de enteros positivos.\n",
    "    \n",
    "    Returns\n",
    "    -------\n",
    "    output : bool\n",
    "        Valor de verdad de la proposición lógica ¿Es A un cuadrado mágico?\n",
    "        \n",
    "    Examples\n",
    "    --------\n",
    "    >>> es_cuadrado_magico(np.array([[4,9,2],[3,5,7],[8,1,6]]))\n",
    "    True\n",
    "    \n",
    "    >>> es_cuadrado_magico(np.array([[4,2,9],[3,5,7],[8,1,6]]))\n",
    "    False\n",
    "    \"\"\"      \n",
    "    #primero se chequea que se cumplen las condiciones minimas: A cuadrada y con numeros consecutivos de 1 a n^2\n",
    "    assert A.shape[0] == A.shape[1], \"Matriz no es cuadrada.\"\n",
    "    n = A.shape[0]\n",
    "    B = np.sort(A,axis=None) #sort convierte a la matriz A en lista ordenada\n",
    "    np.testing.assert_array_equal( #se compara con la lista [1,...,n*n] para verificar lo pedido por el Hint\n",
    "        B,\n",
    "        (np.arange(n*n)+1)\n",
    "    )\n",
    "    #ahora se procede a verificar si es cuadrado mágico\n",
    "    Mn = n*(n**2+1)/2\n",
    "    #primero se verifican las diagonales\n",
    "    escuadrado = sum(np.diag(A))==Mn and sum(np.diag(np.fliplr(A)))==Mn #fliplr invierte horizontalmente la matriz y \n",
    "                                                                        #diag obtiene la diagonal de la matriz\n",
    "    #ahora las sumas de las filas y columnas\n",
    "    for i in range(0,n-1):\n",
    "        sumasCorrectas = sum(A[i])== Mn and sum(A[:,i])== Mn \n",
    "        escuadrado = escuadrado and sumasCorrectas\n",
    "    return escuadrado\n",
    "    "
   ]
  },
  {
   "cell_type": "markdown",
   "metadata": {},
   "source": [
    "### Verificar ejemplos"
   ]
  },
  {
   "cell_type": "code",
   "execution_count": 8,
   "metadata": {},
   "outputs": [],
   "source": [
    "# ejemplo 01\n",
    "A = np.array([[4,9,2],[3,5,7],[8,1,6]])\n",
    "assert es_cuadrado_magico(A) == True, \"ejemplo 01 incorrecto\""
   ]
  },
  {
   "cell_type": "code",
   "execution_count": 9,
   "metadata": {},
   "outputs": [],
   "source": [
    "# ejemplo 02\n",
    "B = np.array([[4,2,9],[3,5,7],[8,1,6]])\n",
    "assert es_cuadrado_magico(B) == False, \"ejemplo 02 incorrecto\""
   ]
  }
 ],
 "metadata": {
  "kernelspec": {
   "display_name": "Python 3",
   "language": "python",
   "name": "python3"
  },
  "language_info": {
   "codemirror_mode": {
    "name": "ipython",
    "version": 3
   },
   "file_extension": ".py",
   "mimetype": "text/x-python",
   "name": "python",
   "nbconvert_exporter": "python",
   "pygments_lexer": "ipython3",
   "version": "3.7.6"
  }
 },
 "nbformat": 4,
 "nbformat_minor": 4
}
